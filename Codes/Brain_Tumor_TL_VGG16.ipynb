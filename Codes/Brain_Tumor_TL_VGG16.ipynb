{
  "nbformat": 4,
  "nbformat_minor": 0,
  "metadata": {
    "kernelspec": {
      "display_name": "Python 3",
      "language": "python",
      "name": "python3"
    },
    "language_info": {
      "codemirror_mode": {
        "name": "ipython",
        "version": 3
      },
      "file_extension": ".py",
      "mimetype": "text/x-python",
      "name": "python",
      "nbconvert_exporter": "python",
      "pygments_lexer": "ipython3",
      "version": "3.7.7"
    },
    "colab": {
      "name": "Brain_Tumor_TL_VGG16.ipynb",
      "provenance": []
    },
    "accelerator": "GPU"
  },
  "cells": [
    {
      "cell_type": "code",
      "metadata": {
        "id": "44drN7yZmk6W",
        "colab_type": "code",
        "colab": {}
      },
      "source": [
        "import os\n",
        "import zipfile\n",
        "import random\n",
        "import shutil\n",
        "import tensorflow as tf\n",
        "from tensorflow.keras.optimizers import RMSprop\n",
        "from tensorflow.keras.preprocessing.image import ImageDataGenerator\n",
        "from shutil import copyfile\n",
        "from os import getcwd\n",
        "from os import listdir\n",
        "import cv2\n",
        "from tensorflow.keras.layers import Conv2D, Input, ZeroPadding2D, BatchNormalization, Activation, MaxPooling2D, Flatten, Dense\n",
        "from tensorflow.keras.models import Model, load_model\n",
        "from tensorflow.keras.callbacks import TensorBoard, ModelCheckpoint\n",
        "from sklearn.model_selection import train_test_split\n",
        "from sklearn.metrics import f1_score\n",
        "from sklearn.utils import shuffle\n",
        "import imutils\n",
        "import numpy as np\n",
        "import matplotlib.pyplot as plt\n",
        "import matplotlib.image  as mpimg"
      ],
      "execution_count": 1,
      "outputs": []
    },
    {
      "cell_type": "code",
      "metadata": {
        "id": "T1kekHNMnB04",
        "colab_type": "code",
        "colab": {
          "base_uri": "https://localhost:8080/",
          "height": 34
        },
        "outputId": "4247226b-688c-4337-bbbc-02b8081e5950"
      },
      "source": [
        "from google.colab import drive\n",
        "drive.mount('/content/drive')"
      ],
      "execution_count": 2,
      "outputs": [
        {
          "output_type": "stream",
          "text": [
            "Drive already mounted at /content/drive; to attempt to forcibly remount, call drive.mount(\"/content/drive\", force_remount=True).\n"
          ],
          "name": "stdout"
        }
      ]
    },
    {
      "cell_type": "code",
      "metadata": {
        "id": "gcZ0v6LmnRS0",
        "colab_type": "code",
        "colab": {}
      },
      "source": [
        ""
      ],
      "execution_count": 2,
      "outputs": []
    },
    {
      "cell_type": "code",
      "metadata": {
        "id": "yhWRPEz6mk6k",
        "colab_type": "code",
        "colab": {
          "base_uri": "https://localhost:8080/",
          "height": 833
        },
        "outputId": "8bdcec33-917f-4eba-b3cd-0598f342d4a0"
      },
      "source": [
        "# Import the inception model  \n",
        "from tensorflow.keras.applications.vgg16 import VGG16\n",
        "\n",
        "\n",
        "pre_trained_model = VGG16(input_shape = (150, 150, 3), \n",
        "                                include_top = False, \n",
        "                                weights = 'imagenet')\n",
        "\n",
        "\n",
        "# Make all the layers in the pre-trained model non-trainable\n",
        "for layer in pre_trained_model.layers:\n",
        "  layer.trainable = False\n",
        "  \n",
        "# Print the model summary\n",
        "pre_trained_model.summary()"
      ],
      "execution_count": 3,
      "outputs": [
        {
          "output_type": "stream",
          "text": [
            "Downloading data from https://storage.googleapis.com/tensorflow/keras-applications/vgg16/vgg16_weights_tf_dim_ordering_tf_kernels_notop.h5\n",
            "58892288/58889256 [==============================] - 1s 0us/step\n",
            "Model: \"vgg16\"\n",
            "_________________________________________________________________\n",
            "Layer (type)                 Output Shape              Param #   \n",
            "=================================================================\n",
            "input_1 (InputLayer)         [(None, 150, 150, 3)]     0         \n",
            "_________________________________________________________________\n",
            "block1_conv1 (Conv2D)        (None, 150, 150, 64)      1792      \n",
            "_________________________________________________________________\n",
            "block1_conv2 (Conv2D)        (None, 150, 150, 64)      36928     \n",
            "_________________________________________________________________\n",
            "block1_pool (MaxPooling2D)   (None, 75, 75, 64)        0         \n",
            "_________________________________________________________________\n",
            "block2_conv1 (Conv2D)        (None, 75, 75, 128)       73856     \n",
            "_________________________________________________________________\n",
            "block2_conv2 (Conv2D)        (None, 75, 75, 128)       147584    \n",
            "_________________________________________________________________\n",
            "block2_pool (MaxPooling2D)   (None, 37, 37, 128)       0         \n",
            "_________________________________________________________________\n",
            "block3_conv1 (Conv2D)        (None, 37, 37, 256)       295168    \n",
            "_________________________________________________________________\n",
            "block3_conv2 (Conv2D)        (None, 37, 37, 256)       590080    \n",
            "_________________________________________________________________\n",
            "block3_conv3 (Conv2D)        (None, 37, 37, 256)       590080    \n",
            "_________________________________________________________________\n",
            "block3_pool (MaxPooling2D)   (None, 18, 18, 256)       0         \n",
            "_________________________________________________________________\n",
            "block4_conv1 (Conv2D)        (None, 18, 18, 512)       1180160   \n",
            "_________________________________________________________________\n",
            "block4_conv2 (Conv2D)        (None, 18, 18, 512)       2359808   \n",
            "_________________________________________________________________\n",
            "block4_conv3 (Conv2D)        (None, 18, 18, 512)       2359808   \n",
            "_________________________________________________________________\n",
            "block4_pool (MaxPooling2D)   (None, 9, 9, 512)         0         \n",
            "_________________________________________________________________\n",
            "block5_conv1 (Conv2D)        (None, 9, 9, 512)         2359808   \n",
            "_________________________________________________________________\n",
            "block5_conv2 (Conv2D)        (None, 9, 9, 512)         2359808   \n",
            "_________________________________________________________________\n",
            "block5_conv3 (Conv2D)        (None, 9, 9, 512)         2359808   \n",
            "_________________________________________________________________\n",
            "block5_pool (MaxPooling2D)   (None, 4, 4, 512)         0         \n",
            "=================================================================\n",
            "Total params: 14,714,688\n",
            "Trainable params: 0\n",
            "Non-trainable params: 14,714,688\n",
            "_________________________________________________________________\n"
          ],
          "name": "stdout"
        }
      ]
    },
    {
      "cell_type": "code",
      "metadata": {
        "id": "Yy6EA45rmk6p",
        "colab_type": "code",
        "colab": {
          "base_uri": "https://localhost:8080/",
          "height": 68
        },
        "outputId": "33b898de-3998-4450-f378-f45ecaaa5256"
      },
      "source": [
        "def data_summary(main_path):\n",
        "    \n",
        "    yes_path = main_path+'yesreal'\n",
        "    no_path = main_path+'noreal'\n",
        "        \n",
        "    # number of files (images) that are in the the folder named 'yes' that represent tumorous (positive) examples\n",
        "    m_pos = len(listdir(yes_path))\n",
        "    # number of files (images) that are in the the folder named 'no' that represent non-tumorous (negative) examples\n",
        "    m_neg = len(listdir(no_path))\n",
        "    # number of all examples\n",
        "    m = (m_pos+m_neg)\n",
        "    \n",
        "    pos_prec = (m_pos* 100.0)/ m\n",
        "    neg_prec = (m_neg* 100.0)/ m\n",
        "    \n",
        "    print(f\"Number of examples: {m}\")\n",
        "    print(f\"Percentage of positive examples: {pos_prec}%, number of pos examples: {m_pos}\") \n",
        "    print(f\"Percentage of negative examples: {neg_prec}%, number of neg examples: {m_neg}\") \n",
        "    \n",
        "augmented_data_path = '/content/drive/My Drive/trial1/augmented data1/'    \n",
        "data_summary(augmented_data_path)"
      ],
      "execution_count": 4,
      "outputs": [
        {
          "output_type": "stream",
          "text": [
            "Number of examples: 2064\n",
            "Percentage of positive examples: 52.56782945736434%, number of pos examples: 1085\n",
            "Percentage of negative examples: 47.43217054263566%, number of neg examples: 979\n"
          ],
          "name": "stdout"
        }
      ]
    },
    {
      "cell_type": "code",
      "metadata": {
        "id": "AI1JuYymmk6t",
        "colab_type": "code",
        "colab": {
          "base_uri": "https://localhost:8080/",
          "height": 85
        },
        "outputId": "faf49e48-4820-4372-8974-6a592ed56eaf"
      },
      "source": [
        "print(\"The number of MRI images in the training set labelled 'yes':\", len(os.listdir('/content/drive/My Drive/trial1/augmented data1/training/yes1')))\n",
        "print(\"The number of MRI images in the test set labelled 'yes':\", len(os.listdir('/content/drive/My Drive/trial1/augmented data1/testing/yes1')))\n",
        "print(\"The number of MRI images in the training set labelled 'no':\", len(os.listdir('/content/drive/My Drive/trial1/augmented data1/training/no1')))\n",
        "print(\"The number of MRI images in the test set labelled 'no':\", len(os.listdir('/content/drive/My Drive/trial1/augmented data1/testing/no1')))"
      ],
      "execution_count": 5,
      "outputs": [
        {
          "output_type": "stream",
          "text": [
            "The number of MRI images in the training set labelled 'yes': 868\n",
            "The number of MRI images in the test set labelled 'yes': 217\n",
            "The number of MRI images in the training set labelled 'no': 783\n",
            "The number of MRI images in the test set labelled 'no': 196\n"
          ],
          "name": "stdout"
        }
      ]
    },
    {
      "cell_type": "code",
      "metadata": {
        "id": "iWZSko8Wmk6x",
        "colab_type": "code",
        "colab": {
          "base_uri": "https://localhost:8080/",
          "height": 969
        },
        "outputId": "69f65e66-08c1-4f9d-eb81-c9a5aa8e4a1c"
      },
      "source": [
        "from tensorflow.keras import layers\n",
        "from tensorflow.keras.optimizers import SGD\n",
        "x = layers.Dropout(0.3)(pre_trained_model.output)\n",
        "x = layers.Flatten()(x)\n",
        "x = layers.Dropout(0.5)(x)\n",
        "x = layers.Dense(128, activation='relu', kernel_initializer='he_uniform')(x)\n",
        "x = layers.Dense(1, activation='sigmoid')(x)           \n",
        "\n",
        "model = Model( pre_trained_model.input, x) \n",
        "opt = SGD(lr=0.001, momentum=0.9)\n",
        "model.compile(loss='binary_crossentropy', optimizer=opt, metrics=[\"acc\"])\n",
        "\n",
        "model.summary()"
      ],
      "execution_count": 6,
      "outputs": [
        {
          "output_type": "stream",
          "text": [
            "Model: \"model\"\n",
            "_________________________________________________________________\n",
            "Layer (type)                 Output Shape              Param #   \n",
            "=================================================================\n",
            "input_1 (InputLayer)         [(None, 150, 150, 3)]     0         \n",
            "_________________________________________________________________\n",
            "block1_conv1 (Conv2D)        (None, 150, 150, 64)      1792      \n",
            "_________________________________________________________________\n",
            "block1_conv2 (Conv2D)        (None, 150, 150, 64)      36928     \n",
            "_________________________________________________________________\n",
            "block1_pool (MaxPooling2D)   (None, 75, 75, 64)        0         \n",
            "_________________________________________________________________\n",
            "block2_conv1 (Conv2D)        (None, 75, 75, 128)       73856     \n",
            "_________________________________________________________________\n",
            "block2_conv2 (Conv2D)        (None, 75, 75, 128)       147584    \n",
            "_________________________________________________________________\n",
            "block2_pool (MaxPooling2D)   (None, 37, 37, 128)       0         \n",
            "_________________________________________________________________\n",
            "block3_conv1 (Conv2D)        (None, 37, 37, 256)       295168    \n",
            "_________________________________________________________________\n",
            "block3_conv2 (Conv2D)        (None, 37, 37, 256)       590080    \n",
            "_________________________________________________________________\n",
            "block3_conv3 (Conv2D)        (None, 37, 37, 256)       590080    \n",
            "_________________________________________________________________\n",
            "block3_pool (MaxPooling2D)   (None, 18, 18, 256)       0         \n",
            "_________________________________________________________________\n",
            "block4_conv1 (Conv2D)        (None, 18, 18, 512)       1180160   \n",
            "_________________________________________________________________\n",
            "block4_conv2 (Conv2D)        (None, 18, 18, 512)       2359808   \n",
            "_________________________________________________________________\n",
            "block4_conv3 (Conv2D)        (None, 18, 18, 512)       2359808   \n",
            "_________________________________________________________________\n",
            "block4_pool (MaxPooling2D)   (None, 9, 9, 512)         0         \n",
            "_________________________________________________________________\n",
            "block5_conv1 (Conv2D)        (None, 9, 9, 512)         2359808   \n",
            "_________________________________________________________________\n",
            "block5_conv2 (Conv2D)        (None, 9, 9, 512)         2359808   \n",
            "_________________________________________________________________\n",
            "block5_conv3 (Conv2D)        (None, 9, 9, 512)         2359808   \n",
            "_________________________________________________________________\n",
            "block5_pool (MaxPooling2D)   (None, 4, 4, 512)         0         \n",
            "_________________________________________________________________\n",
            "dropout (Dropout)            (None, 4, 4, 512)         0         \n",
            "_________________________________________________________________\n",
            "flatten (Flatten)            (None, 8192)              0         \n",
            "_________________________________________________________________\n",
            "dropout_1 (Dropout)          (None, 8192)              0         \n",
            "_________________________________________________________________\n",
            "dense (Dense)                (None, 128)               1048704   \n",
            "_________________________________________________________________\n",
            "dense_1 (Dense)              (None, 1)                 129       \n",
            "=================================================================\n",
            "Total params: 15,763,521\n",
            "Trainable params: 1,048,833\n",
            "Non-trainable params: 14,714,688\n",
            "_________________________________________________________________\n"
          ],
          "name": "stdout"
        }
      ]
    },
    {
      "cell_type": "code",
      "metadata": {
        "id": "TWXUVCjRmk63",
        "colab_type": "code",
        "colab": {
          "base_uri": "https://localhost:8080/",
          "height": 51
        },
        "outputId": "ef24ed32-a8ba-4035-c99c-99f1ed57d7af"
      },
      "source": [
        "TRAINING_DIR = \"/content/drive/My Drive/trial1/augmented data1/training\"\n",
        "train_datagen = ImageDataGenerator(rescale=1.0/255)\n",
        "\n",
        "train_generator = train_datagen.flow_from_directory(TRAINING_DIR, \n",
        "                                                    batch_size=64, \n",
        "                                                    class_mode='binary', \n",
        "                                                    target_size=(150, 150))\n",
        "VALIDATION_DIR = \"/content/drive/My Drive/trial1/augmented data1/testing\"\n",
        "validation_datagen = ImageDataGenerator(rescale=1.0/255)\n",
        "\n",
        "validation_generator = validation_datagen.flow_from_directory(VALIDATION_DIR, \n",
        "                                                         batch_size=64, \n",
        "                                                         class_mode='binary', \n",
        "                                                         target_size=(150, 150))"
      ],
      "execution_count": 7,
      "outputs": [
        {
          "output_type": "stream",
          "text": [
            "Found 1651 images belonging to 2 classes.\n",
            "Found 413 images belonging to 2 classes.\n"
          ],
          "name": "stdout"
        }
      ]
    },
    {
      "cell_type": "code",
      "metadata": {
        "id": "CH8pMsNFmk68",
        "colab_type": "code",
        "colab": {
          "base_uri": "https://localhost:8080/",
          "height": 1000
        },
        "outputId": "6caf9d5b-baaa-45db-bb2c-0df280c4fa17"
      },
      "source": [
        "history = model.fit(train_generator,\n",
        "                              epochs=30,\n",
        "                              steps_per_epoch=len(train_generator),\n",
        "                              validation_steps=len(validation_generator),\n",
        "                              validation_data=validation_generator)"
      ],
      "execution_count": 8,
      "outputs": [
        {
          "output_type": "stream",
          "text": [
            "Epoch 1/30\n",
            "26/26 [==============================] - 17s 652ms/step - loss: 0.7118 - acc: 0.5796 - val_loss: 0.4995 - val_acc: 0.8184\n",
            "Epoch 2/30\n",
            "26/26 [==============================] - 13s 482ms/step - loss: 0.5591 - acc: 0.7123 - val_loss: 0.4278 - val_acc: 0.7579\n",
            "Epoch 3/30\n",
            "26/26 [==============================] - 12s 478ms/step - loss: 0.4863 - acc: 0.7632 - val_loss: 0.3997 - val_acc: 0.8523\n",
            "Epoch 4/30\n",
            "26/26 [==============================] - 12s 478ms/step - loss: 0.4426 - acc: 0.7953 - val_loss: 0.3837 - val_acc: 0.7797\n",
            "Epoch 5/30\n",
            "26/26 [==============================] - 13s 501ms/step - loss: 0.4635 - acc: 0.7862 - val_loss: 0.3371 - val_acc: 0.8402\n",
            "Epoch 6/30\n",
            "26/26 [==============================] - 13s 484ms/step - loss: 0.4271 - acc: 0.7989 - val_loss: 0.3696 - val_acc: 0.8668\n",
            "Epoch 7/30\n",
            "26/26 [==============================] - 12s 477ms/step - loss: 0.4049 - acc: 0.8104 - val_loss: 0.3300 - val_acc: 0.8717\n",
            "Epoch 8/30\n",
            "26/26 [==============================] - 12s 475ms/step - loss: 0.3934 - acc: 0.8256 - val_loss: 0.3273 - val_acc: 0.8765\n",
            "Epoch 9/30\n",
            "26/26 [==============================] - 13s 482ms/step - loss: 0.4065 - acc: 0.8147 - val_loss: 0.3113 - val_acc: 0.8741\n",
            "Epoch 10/30\n",
            "26/26 [==============================] - 12s 476ms/step - loss: 0.3700 - acc: 0.8365 - val_loss: 0.3624 - val_acc: 0.8692\n",
            "Epoch 11/30\n",
            "26/26 [==============================] - 12s 477ms/step - loss: 0.3549 - acc: 0.8522 - val_loss: 0.3131 - val_acc: 0.8814\n",
            "Epoch 12/30\n",
            "26/26 [==============================] - 13s 491ms/step - loss: 0.3705 - acc: 0.8353 - val_loss: 0.3119 - val_acc: 0.8063\n",
            "Epoch 13/30\n",
            "26/26 [==============================] - 12s 479ms/step - loss: 0.3549 - acc: 0.8334 - val_loss: 0.3347 - val_acc: 0.8838\n",
            "Epoch 14/30\n",
            "26/26 [==============================] - 12s 472ms/step - loss: 0.3316 - acc: 0.8504 - val_loss: 0.3068 - val_acc: 0.8838\n",
            "Epoch 15/30\n",
            "26/26 [==============================] - 12s 475ms/step - loss: 0.3302 - acc: 0.8589 - val_loss: 0.2897 - val_acc: 0.8765\n",
            "Epoch 16/30\n",
            "26/26 [==============================] - 12s 477ms/step - loss: 0.3423 - acc: 0.8443 - val_loss: 0.2916 - val_acc: 0.8596\n",
            "Epoch 17/30\n",
            "26/26 [==============================] - 13s 482ms/step - loss: 0.3001 - acc: 0.8704 - val_loss: 0.2968 - val_acc: 0.8717\n",
            "Epoch 18/30\n",
            "26/26 [==============================] - 12s 479ms/step - loss: 0.3221 - acc: 0.8722 - val_loss: 0.2978 - val_acc: 0.8741\n",
            "Epoch 19/30\n",
            "26/26 [==============================] - 12s 477ms/step - loss: 0.3155 - acc: 0.8534 - val_loss: 0.3023 - val_acc: 0.8717\n",
            "Epoch 20/30\n",
            "26/26 [==============================] - 13s 481ms/step - loss: 0.2980 - acc: 0.8728 - val_loss: 0.2969 - val_acc: 0.8741\n",
            "Epoch 21/30\n",
            "26/26 [==============================] - 12s 473ms/step - loss: 0.2903 - acc: 0.8789 - val_loss: 0.3220 - val_acc: 0.8789\n",
            "Epoch 22/30\n",
            "26/26 [==============================] - 12s 475ms/step - loss: 0.2785 - acc: 0.8837 - val_loss: 0.3009 - val_acc: 0.8717\n",
            "Epoch 23/30\n",
            "26/26 [==============================] - 12s 479ms/step - loss: 0.3062 - acc: 0.8655 - val_loss: 0.3066 - val_acc: 0.8692\n",
            "Epoch 24/30\n",
            "26/26 [==============================] - 12s 474ms/step - loss: 0.2958 - acc: 0.8770 - val_loss: 0.3184 - val_acc: 0.8644\n",
            "Epoch 25/30\n",
            "26/26 [==============================] - 12s 477ms/step - loss: 0.2760 - acc: 0.8789 - val_loss: 0.3370 - val_acc: 0.8692\n",
            "Epoch 26/30\n",
            "26/26 [==============================] - 12s 478ms/step - loss: 0.2772 - acc: 0.8813 - val_loss: 0.3168 - val_acc: 0.8232\n",
            "Epoch 27/30\n",
            "26/26 [==============================] - 13s 483ms/step - loss: 0.3200 - acc: 0.8692 - val_loss: 0.3372 - val_acc: 0.8717\n",
            "Epoch 28/30\n",
            "26/26 [==============================] - 13s 483ms/step - loss: 0.2792 - acc: 0.8849 - val_loss: 0.3067 - val_acc: 0.8717\n",
            "Epoch 29/30\n",
            "26/26 [==============================] - 13s 504ms/step - loss: 0.2635 - acc: 0.8879 - val_loss: 0.3440 - val_acc: 0.8692\n",
            "Epoch 30/30\n",
            "26/26 [==============================] - 13s 489ms/step - loss: 0.2881 - acc: 0.8740 - val_loss: 0.3119 - val_acc: 0.8717\n"
          ],
          "name": "stdout"
        }
      ]
    },
    {
      "cell_type": "code",
      "metadata": {
        "id": "kpBAou6xmk7A",
        "colab_type": "code",
        "colab": {
          "base_uri": "https://localhost:8080/",
          "height": 630
        },
        "outputId": "68827eb7-2ce5-48d3-89fb-2a6376b80c5c"
      },
      "source": [
        "acc=history.history['acc']\n",
        "val_acc=history.history['val_acc']\n",
        "loss=history.history['loss']\n",
        "val_loss=history.history['val_loss']\n",
        "print(\"Training Accuracy: \",acc[-1]*100,\"%\")\n",
        "print(\"Validation Accuracy: \",val_acc[-1]*100,\"%\")\n",
        "print(\"Training Loss: \",loss[-1])\n",
        "print(\"Validation Loss: \",val_loss[-1])\n",
        "epochs=range(len(acc)) # Get number of epochs\n",
        "\n",
        "\n",
        "plt.plot(epochs, acc, 'r', \"Training Accuracy(Red)\")\n",
        "plt.plot(epochs, val_acc, 'b', \"Validation Accuracy(Blue)\")\n",
        "plt.title('Training and validation accuracy')\n",
        "plt.figure()\n",
        "\n",
        "\n",
        "plt.plot(epochs, loss, 'r', \"Training Loss(Red)\")\n",
        "plt.plot(epochs, val_loss, 'b', \"Validation Loss(Blue)\")\n",
        "\n",
        "\n",
        "plt.title('Training and validation loss')"
      ],
      "execution_count": 9,
      "outputs": [
        {
          "output_type": "stream",
          "text": [
            "Training Accuracy:  87.4015748500824 %\n",
            "Validation Accuracy:  87.16707229614258 %\n",
            "Training Loss:  0.2881373167037964\n",
            "Validation Loss:  0.31191378831863403\n"
          ],
          "name": "stdout"
        },
        {
          "output_type": "execute_result",
          "data": {
            "text/plain": [
              "Text(0.5, 1.0, 'Training and validation loss')"
            ]
          },
          "metadata": {
            "tags": []
          },
          "execution_count": 9
        },
        {
          "output_type": "display_data",
          "data": {
            "image/png": "[encoded data removed]",
            "text/plain": [
              "<Figure size 432x288 with 1 Axes>"
            ]
          },
          "metadata": {
            "tags": [],
            "needs_background": "light"
          }
        },
        {
          "output_type": "display_data",
          "data": {
            "image/png": "[encoded data removed]",
            "text/plain": [
              "<Figure size 432x288 with 1 Axes>"
            ]
          },
          "metadata": {
            "tags": [],
            "needs_background": "light"
          }
        }
      ]
    }
  ]
}