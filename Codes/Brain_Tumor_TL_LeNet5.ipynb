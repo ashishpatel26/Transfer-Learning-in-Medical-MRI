{
  "nbformat": 4,
  "nbformat_minor": 0,
  "metadata": {
    "kernelspec": {
      "display_name": "Python 3",
      "language": "python",
      "name": "python3"
    },
    "language_info": {
      "codemirror_mode": {
        "name": "ipython",
        "version": 3
      },
      "file_extension": ".py",
      "mimetype": "text/x-python",
      "name": "python",
      "nbconvert_exporter": "python",
      "pygments_lexer": "ipython3",
      "version": "3.7.7"
    },
    "colab": {
      "name": "Brain_Tumor_TL_LeNet5.ipynb",
      "provenance": []
    },
    "accelerator": "GPU"
  },
  "cells": [
    {
      "cell_type": "code",
      "metadata": {
        "id": "44drN7yZmk6W",
        "colab_type": "code",
        "colab": {
          "base_uri": "https://localhost:8080/",
          "height": 34
        },
        "outputId": "2c620f45-a277-497b-e0d0-9a5c0ea121b6"
      },
      "source": [
        "import os\n",
        "import zipfile\n",
        "import random\n",
        "import shutil\n",
        "import tensorflow as tf\n",
        "from tensorflow.keras.optimizers import RMSprop\n",
        "from tensorflow.keras.preprocessing.image import ImageDataGenerator\n",
        "from shutil import copyfile\n",
        "from os import getcwd\n",
        "from os import listdir\n",
        "import cv2\n",
        "from keras.models import Sequential\n",
        "from keras.layers import Dense, Conv2D, MaxPooling2D, AveragePooling2D, Flatten, Dropout\n",
        "from sklearn.model_selection import train_test_split\n",
        "from sklearn.metrics import f1_score\n",
        "from sklearn.utils import shuffle\n",
        "import imutils\n",
        "import numpy as np\n",
        "import matplotlib.pyplot as plt\n",
        "import matplotlib.image  as mpimg"
      ],
      "execution_count": 1,
      "outputs": [
        {
          "output_type": "stream",
          "text": [
            "Using TensorFlow backend.\n"
          ],
          "name": "stderr"
        }
      ]
    },
    {
      "cell_type": "code",
      "metadata": {
        "id": "T1kekHNMnB04",
        "colab_type": "code",
        "colab": {
          "base_uri": "https://localhost:8080/",
          "height": 34
        },
        "outputId": "86bdbd02-52ab-4c8d-ae2f-ad269af642cb"
      },
      "source": [
        "from google.colab import drive\n",
        "drive.mount('/content/drive')"
      ],
      "execution_count": 2,
      "outputs": [
        {
          "output_type": "stream",
          "text": [
            "Drive already mounted at /content/drive; to attempt to forcibly remount, call drive.mount(\"/content/drive\", force_remount=True).\n"
          ],
          "name": "stdout"
        }
      ]
    },
    {
      "cell_type": "code",
      "metadata": {
        "id": "Yy6EA45rmk6p",
        "colab_type": "code",
        "colab": {
          "base_uri": "https://localhost:8080/",
          "height": 68
        },
        "outputId": "98405c5c-6e7a-4fb5-fe0a-6de0fd3c59d6"
      },
      "source": [
        "def data_summary(main_path):\n",
        "    \n",
        "    yes_path = main_path+'yesreal'\n",
        "    no_path = main_path+'noreal'\n",
        "        \n",
        "    # number of files (images) that are in the the folder named 'yes' that represent tumorous (positive) examples\n",
        "    m_pos = len(listdir(yes_path))\n",
        "    # number of files (images) that are in the the folder named 'no' that represent non-tumorous (negative) examples\n",
        "    m_neg = len(listdir(no_path))\n",
        "    # number of all examples\n",
        "    m = (m_pos+m_neg)\n",
        "    \n",
        "    pos_prec = (m_pos* 100.0)/ m\n",
        "    neg_prec = (m_neg* 100.0)/ m\n",
        "    \n",
        "    print(f\"Number of examples: {m}\")\n",
        "    print(f\"Percentage of positive examples: {pos_prec}%, number of pos examples: {m_pos}\") \n",
        "    print(f\"Percentage of negative examples: {neg_prec}%, number of neg examples: {m_neg}\") \n",
        "    \n",
        "augmented_data_path = '/content/drive/My Drive/trial1/augmented data1/'    \n",
        "data_summary(augmented_data_path)"
      ],
      "execution_count": 3,
      "outputs": [
        {
          "output_type": "stream",
          "text": [
            "Number of examples: 2064\n",
            "Percentage of positive examples: 52.56782945736434%, number of pos examples: 1085\n",
            "Percentage of negative examples: 47.43217054263566%, number of neg examples: 979\n"
          ],
          "name": "stdout"
        }
      ]
    },
    {
      "cell_type": "code",
      "metadata": {
        "id": "AI1JuYymmk6t",
        "colab_type": "code",
        "colab": {
          "base_uri": "https://localhost:8080/",
          "height": 85
        },
        "outputId": "f701d5cc-d321-47a5-f0f7-62cd7e3af82d"
      },
      "source": [
        "print(\"The number of MRI images in the training set labelled 'yes':\", len(os.listdir('/content/drive/My Drive/trial1/augmented data1/training/yes1')))\n",
        "print(\"The number of MRI images in the test set labelled 'yes':\", len(os.listdir('/content/drive/My Drive/trial1/augmented data1/testing/yes1')))\n",
        "print(\"The number of MRI images in the training set labelled 'no':\", len(os.listdir('/content/drive/My Drive/trial1/augmented data1/training/no1')))\n",
        "print(\"The number of MRI images in the test set labelled 'no':\", len(os.listdir('/content/drive/My Drive/trial1/augmented data1/testing/no1')))"
      ],
      "execution_count": 4,
      "outputs": [
        {
          "output_type": "stream",
          "text": [
            "The number of MRI images in the training set labelled 'yes': 868\n",
            "The number of MRI images in the test set labelled 'yes': 217\n",
            "The number of MRI images in the training set labelled 'no': 783\n",
            "The number of MRI images in the test set labelled 'no': 196\n"
          ],
          "name": "stdout"
        }
      ]
    },
    {
      "cell_type": "code",
      "metadata": {
        "id": "iWZSko8Wmk6x",
        "colab_type": "code",
        "colab": {
          "base_uri": "https://localhost:8080/",
          "height": 425
        },
        "outputId": "0539d932-abfc-4bc7-ae1f-d87c3d73a2f8"
      },
      "source": [
        "from keras.optimizers import SGD\n",
        "\n",
        "x = Sequential()\n",
        "x.add(Conv2D(6, (5,5), data_format='channels_last', activation = 'relu', input_shape=(150,150,3)))\n",
        "x.add(AveragePooling2D((2,2), 2))\n",
        "x.add(Conv2D(16, (5,5), data_format='channels_last', activation = 'relu'))\n",
        "x.add(AveragePooling2D((2,2), 2))\n",
        "x.add(Flatten())\n",
        "x.add(Dense(120, activation = 'relu'))\n",
        "x.add(Dense(84, activation = 'relu'))\n",
        "x.add(Dense(1, activation = 'sigmoid'))         \n",
        "\n",
        "opt = SGD(lr=0.001, momentum=0.9)\n",
        "x.compile(loss='binary_crossentropy', optimizer=opt, metrics=[\"acc\"])\n",
        "\n",
        "x.summary()"
      ],
      "execution_count": 5,
      "outputs": [
        {
          "output_type": "stream",
          "text": [
            "Model: \"sequential_1\"\n",
            "_________________________________________________________________\n",
            "Layer (type)                 Output Shape              Param #   \n",
            "=================================================================\n",
            "conv2d_1 (Conv2D)            (None, 146, 146, 6)       456       \n",
            "_________________________________________________________________\n",
            "average_pooling2d_1 (Average (None, 73, 73, 6)         0         \n",
            "_________________________________________________________________\n",
            "conv2d_2 (Conv2D)            (None, 69, 69, 16)        2416      \n",
            "_________________________________________________________________\n",
            "average_pooling2d_2 (Average (None, 34, 34, 16)        0         \n",
            "_________________________________________________________________\n",
            "flatten_1 (Flatten)          (None, 18496)             0         \n",
            "_________________________________________________________________\n",
            "dense_1 (Dense)              (None, 120)               2219640   \n",
            "_________________________________________________________________\n",
            "dense_2 (Dense)              (None, 84)                10164     \n",
            "_________________________________________________________________\n",
            "dense_3 (Dense)              (None, 1)                 85        \n",
            "=================================================================\n",
            "Total params: 2,232,761\n",
            "Trainable params: 2,232,761\n",
            "Non-trainable params: 0\n",
            "_________________________________________________________________\n"
          ],
          "name": "stdout"
        }
      ]
    },
    {
      "cell_type": "code",
      "metadata": {
        "id": "TWXUVCjRmk63",
        "colab_type": "code",
        "colab": {
          "base_uri": "https://localhost:8080/",
          "height": 51
        },
        "outputId": "a3867c7a-9365-405e-d6dc-50693269d3fa"
      },
      "source": [
        "TRAINING_DIR = \"/content/drive/My Drive/trial1/augmented data1/training\"\n",
        "train_datagen = ImageDataGenerator(rescale=1.0/255)\n",
        "\n",
        "train_generator = train_datagen.flow_from_directory(TRAINING_DIR, \n",
        "                                                    batch_size=64, \n",
        "                                                    class_mode='binary', \n",
        "                                                    target_size=(150, 150))\n",
        "VALIDATION_DIR = \"/content/drive/My Drive/trial1/augmented data1/testing\"\n",
        "validation_datagen = ImageDataGenerator(rescale=1.0/255)\n",
        "\n",
        "validation_generator = validation_datagen.flow_from_directory(VALIDATION_DIR, \n",
        "                                                         batch_size=64, \n",
        "                                                         class_mode='binary', \n",
        "                                                         target_size=(150, 150))"
      ],
      "execution_count": 6,
      "outputs": [
        {
          "output_type": "stream",
          "text": [
            "Found 1651 images belonging to 2 classes.\n",
            "Found 413 images belonging to 2 classes.\n"
          ],
          "name": "stdout"
        }
      ]
    },
    {
      "cell_type": "code",
      "metadata": {
        "id": "CH8pMsNFmk68",
        "colab_type": "code",
        "colab": {
          "base_uri": "https://localhost:8080/",
          "height": 1000
        },
        "outputId": "284048ab-e508-48ac-ec13-38bdd6de9444"
      },
      "source": [
        "history = x.fit(train_generator,\n",
        "                              epochs=30,\n",
        "                              steps_per_epoch=len(train_generator),\n",
        "                              validation_steps=len(validation_generator),\n",
        "                              validation_data=validation_generator)"
      ],
      "execution_count": 7,
      "outputs": [
        {
          "output_type": "stream",
          "text": [
            "Epoch 1/30\n",
            "26/26 [==============================] - 8s 312ms/step - loss: 0.6660 - acc: 0.5627 - val_loss: 0.7163 - val_acc: 0.7191\n",
            "Epoch 2/30\n",
            "26/26 [==============================] - 7s 262ms/step - loss: 0.6174 - acc: 0.6972 - val_loss: 0.6957 - val_acc: 0.7070\n",
            "Epoch 3/30\n",
            "26/26 [==============================] - 7s 259ms/step - loss: 0.5847 - acc: 0.7123 - val_loss: 0.7119 - val_acc: 0.7191\n",
            "Epoch 4/30\n",
            "26/26 [==============================] - 7s 260ms/step - loss: 0.5672 - acc: 0.7147 - val_loss: 0.7055 - val_acc: 0.7264\n",
            "Epoch 5/30\n",
            "26/26 [==============================] - 7s 263ms/step - loss: 0.5554 - acc: 0.7317 - val_loss: 0.4437 - val_acc: 0.7361\n",
            "Epoch 6/30\n",
            "26/26 [==============================] - 7s 278ms/step - loss: 0.5395 - acc: 0.7486 - val_loss: 0.6847 - val_acc: 0.7579\n",
            "Epoch 7/30\n",
            "26/26 [==============================] - 7s 273ms/step - loss: 0.5399 - acc: 0.7299 - val_loss: 0.5055 - val_acc: 0.7288\n",
            "Epoch 8/30\n",
            "26/26 [==============================] - 7s 256ms/step - loss: 0.5262 - acc: 0.7517 - val_loss: 0.4308 - val_acc: 0.7554\n",
            "Epoch 9/30\n",
            "26/26 [==============================] - 7s 259ms/step - loss: 0.5323 - acc: 0.7444 - val_loss: 0.5513 - val_acc: 0.7337\n",
            "Epoch 10/30\n",
            "26/26 [==============================] - 7s 257ms/step - loss: 0.5209 - acc: 0.7608 - val_loss: 0.6846 - val_acc: 0.7482\n",
            "Epoch 11/30\n",
            "26/26 [==============================] - 7s 257ms/step - loss: 0.5342 - acc: 0.7335 - val_loss: 0.8755 - val_acc: 0.7119\n",
            "Epoch 12/30\n",
            "26/26 [==============================] - 7s 261ms/step - loss: 0.5028 - acc: 0.7632 - val_loss: 0.7499 - val_acc: 0.7506\n",
            "Epoch 13/30\n",
            "26/26 [==============================] - 7s 266ms/step - loss: 0.4967 - acc: 0.7717 - val_loss: 0.6595 - val_acc: 0.7603\n",
            "Epoch 14/30\n",
            "26/26 [==============================] - 7s 261ms/step - loss: 0.4770 - acc: 0.7801 - val_loss: 0.5638 - val_acc: 0.7312\n",
            "Epoch 15/30\n",
            "26/26 [==============================] - 7s 258ms/step - loss: 0.4701 - acc: 0.7795 - val_loss: 0.8404 - val_acc: 0.7554\n",
            "Epoch 16/30\n",
            "26/26 [==============================] - 7s 265ms/step - loss: 0.4567 - acc: 0.7880 - val_loss: 0.7946 - val_acc: 0.7264\n",
            "Epoch 17/30\n",
            "26/26 [==============================] - 7s 258ms/step - loss: 0.4760 - acc: 0.7929 - val_loss: 0.6447 - val_acc: 0.7676\n",
            "Epoch 18/30\n",
            "26/26 [==============================] - 7s 259ms/step - loss: 0.4511 - acc: 0.7832 - val_loss: 0.7758 - val_acc: 0.7191\n",
            "Epoch 19/30\n",
            "26/26 [==============================] - 7s 259ms/step - loss: 0.4524 - acc: 0.7880 - val_loss: 0.3918 - val_acc: 0.7918\n",
            "Epoch 20/30\n",
            "26/26 [==============================] - 7s 257ms/step - loss: 0.4207 - acc: 0.8080 - val_loss: 0.3912 - val_acc: 0.7845\n",
            "Epoch 21/30\n",
            "26/26 [==============================] - 7s 257ms/step - loss: 0.3988 - acc: 0.8268 - val_loss: 0.7853 - val_acc: 0.7579\n",
            "Epoch 22/30\n",
            "26/26 [==============================] - 7s 257ms/step - loss: 0.4107 - acc: 0.8038 - val_loss: 0.7302 - val_acc: 0.7361\n",
            "Epoch 23/30\n",
            "26/26 [==============================] - 7s 260ms/step - loss: 0.3745 - acc: 0.8371 - val_loss: 0.5410 - val_acc: 0.7821\n",
            "Epoch 24/30\n",
            "26/26 [==============================] - 7s 259ms/step - loss: 0.3835 - acc: 0.8298 - val_loss: 0.5396 - val_acc: 0.6901\n",
            "Epoch 25/30\n",
            "26/26 [==============================] - 7s 260ms/step - loss: 0.4537 - acc: 0.7801 - val_loss: 0.4670 - val_acc: 0.7724\n",
            "Epoch 26/30\n",
            "26/26 [==============================] - 7s 260ms/step - loss: 0.4562 - acc: 0.7904 - val_loss: 0.5431 - val_acc: 0.7627\n",
            "Epoch 27/30\n",
            "26/26 [==============================] - 7s 254ms/step - loss: 0.3649 - acc: 0.8498 - val_loss: 0.4799 - val_acc: 0.7482\n",
            "Epoch 28/30\n",
            "26/26 [==============================] - 7s 256ms/step - loss: 0.3848 - acc: 0.8201 - val_loss: 0.7276 - val_acc: 0.7676\n",
            "Epoch 29/30\n",
            "26/26 [==============================] - 7s 256ms/step - loss: 0.3385 - acc: 0.8607 - val_loss: 0.4256 - val_acc: 0.7918\n",
            "Epoch 30/30\n",
            "26/26 [==============================] - 7s 255ms/step - loss: 0.3179 - acc: 0.8667 - val_loss: 0.4390 - val_acc: 0.7288\n"
          ],
          "name": "stdout"
        }
      ]
    },
    {
      "cell_type": "code",
      "metadata": {
        "id": "kpBAou6xmk7A",
        "colab_type": "code",
        "colab": {
          "base_uri": "https://localhost:8080/",
          "height": 630
        },
        "outputId": "8c677ea9-0908-4d65-a818-6c4208b74d6c"
      },
      "source": [
        "acc=history.history['acc']\n",
        "val_acc=history.history['val_acc']\n",
        "loss=history.history['loss']\n",
        "val_loss=history.history['val_loss']\n",
        "print(\"Training Accuracy: \",acc[-1]*100,\"%\")\n",
        "print(\"Validation Accuracy: \",val_acc[-1]*100,\"%\")\n",
        "print(\"Training Loss: \",loss[-1])\n",
        "print(\"Validation Loss: \",val_loss[-1])\n",
        "epochs=range(len(acc)) # Get number of epochs\n",
        "\n",
        "\n",
        "plt.plot(epochs, acc, 'r', \"Training Accuracy(Red)\")\n",
        "plt.plot(epochs, val_acc, 'b', \"Validation Accuracy(Blue)\")\n",
        "plt.title('Training and validation accuracy')\n",
        "plt.figure()\n",
        "\n",
        "\n",
        "plt.plot(epochs, loss, 'r', \"Training Loss(Red)\")\n",
        "plt.plot(epochs, val_loss, 'b', \"Validation Loss(Blue)\")\n",
        "\n",
        "\n",
        "plt.title('Training and validation loss')"
      ],
      "execution_count": 8,
      "outputs": [
        {
          "output_type": "stream",
          "text": [
            "Training Accuracy:  86.67474389076233 %\n",
            "Validation Accuracy:  72.88135886192322 %\n",
            "Training Loss:  0.31818693150613325\n",
            "Validation Loss:  0.43904492259025574\n"
          ],
          "name": "stdout"
        },
        {
          "output_type": "execute_result",
          "data": {
            "text/plain": [
              "Text(0.5, 1.0, 'Training and validation loss')"
            ]
          },
          "metadata": {
            "tags": []
          },
          "execution_count": 8
        },
        {
          "output_type": "display_data",
          "data": {
            "image/png": "[encoded data removed]",
            "text/plain": [
              "<Figure size 432x288 with 1 Axes>"
            ]
          },
          "metadata": {
            "tags": [],
            "needs_background": "light"
          }
        },
        {
          "output_type": "display_data",
          "data": {
            "image/png": "[encoded data removed]",
            "text/plain": [
              "<Figure size 432x288 with 1 Axes>"
            ]
          },
          "metadata": {
            "tags": [],
            "needs_background": "light"
          }
        }
      ]
    }
  ]
}