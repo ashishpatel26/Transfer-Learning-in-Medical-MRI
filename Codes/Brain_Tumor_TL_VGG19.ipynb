{
  "nbformat": 4,
  "nbformat_minor": 0,
  "metadata": {
    "kernelspec": {
      "display_name": "Python 3",
      "language": "python",
      "name": "python3"
    },
    "language_info": {
      "codemirror_mode": {
        "name": "ipython",
        "version": 3
      },
      "file_extension": ".py",
      "mimetype": "text/x-python",
      "name": "python",
      "nbconvert_exporter": "python",
      "pygments_lexer": "ipython3",
      "version": "3.7.7"
    },
    "colab": {
      "name": "Brain_Tumor_TL_VGG19.ipynb",
      "provenance": []
    },
    "accelerator": "GPU"
  },
  "cells": [
    {
      "cell_type": "code",
      "metadata": {
        "id": "44drN7yZmk6W",
        "colab_type": "code",
        "colab": {}
      },
      "source": [
        "import os\n",
        "import zipfile\n",
        "import random\n",
        "import shutil\n",
        "import tensorflow as tf\n",
        "from tensorflow.keras.optimizers import RMSprop\n",
        "from tensorflow.keras.preprocessing.image import ImageDataGenerator\n",
        "from shutil import copyfile\n",
        "from os import getcwd\n",
        "from os import listdir\n",
        "import cv2\n",
        "from tensorflow.keras.layers import Conv2D, Input, ZeroPadding2D, BatchNormalization, Activation, MaxPooling2D, Flatten, Dense\n",
        "from tensorflow.keras.models import Model, load_model\n",
        "from tensorflow.keras.callbacks import TensorBoard, ModelCheckpoint\n",
        "from sklearn.model_selection import train_test_split\n",
        "from sklearn.metrics import f1_score\n",
        "from sklearn.utils import shuffle\n",
        "import imutils\n",
        "import numpy as np\n",
        "import matplotlib.pyplot as plt\n",
        "import matplotlib.image  as mpimg"
      ],
      "execution_count": 1,
      "outputs": []
    },
    {
      "cell_type": "code",
      "metadata": {
        "id": "T1kekHNMnB04",
        "colab_type": "code",
        "colab": {
          "base_uri": "https://localhost:8080/",
          "height": 34
        },
        "outputId": "9a155cff-bfd9-4ba7-f1c8-707c341e6d6f"
      },
      "source": [
        "from google.colab import drive\n",
        "drive.mount('/content/drive')"
      ],
      "execution_count": 2,
      "outputs": [
        {
          "output_type": "stream",
          "text": [
            "Drive already mounted at /content/drive; to attempt to forcibly remount, call drive.mount(\"/content/drive\", force_remount=True).\n"
          ],
          "name": "stdout"
        }
      ]
    },
    {
      "cell_type": "code",
      "metadata": {
        "id": "yhWRPEz6mk6k",
        "colab_type": "code",
        "colab": {
          "base_uri": "https://localhost:8080/",
          "height": 901
        },
        "outputId": "483f03d6-9ecd-4051-f94d-0c2d2cbbb027"
      },
      "source": [
        "# Import the model  \n",
        "from tensorflow.keras.applications.vgg19 import VGG19\n",
        "\n",
        "\n",
        "pre_trained_model = VGG19(input_shape = (150, 150, 3), \n",
        "                                include_top = False, \n",
        "                                weights = 'imagenet')\n",
        "\n",
        "\n",
        "# Make all the layers in the pre-trained model non-trainable\n",
        "for layer in pre_trained_model.layers:\n",
        "  layer.trainable = False\n",
        "  \n",
        "# Print the model summary\n",
        "pre_trained_model.summary()"
      ],
      "execution_count": 3,
      "outputs": [
        {
          "output_type": "stream",
          "text": [
            "Model: \"vgg19\"\n",
            "_________________________________________________________________\n",
            "Layer (type)                 Output Shape              Param #   \n",
            "=================================================================\n",
            "input_1 (InputLayer)         [(None, 150, 150, 3)]     0         \n",
            "_________________________________________________________________\n",
            "block1_conv1 (Conv2D)        (None, 150, 150, 64)      1792      \n",
            "_________________________________________________________________\n",
            "block1_conv2 (Conv2D)        (None, 150, 150, 64)      36928     \n",
            "_________________________________________________________________\n",
            "block1_pool (MaxPooling2D)   (None, 75, 75, 64)        0         \n",
            "_________________________________________________________________\n",
            "block2_conv1 (Conv2D)        (None, 75, 75, 128)       73856     \n",
            "_________________________________________________________________\n",
            "block2_conv2 (Conv2D)        (None, 75, 75, 128)       147584    \n",
            "_________________________________________________________________\n",
            "block2_pool (MaxPooling2D)   (None, 37, 37, 128)       0         \n",
            "_________________________________________________________________\n",
            "block3_conv1 (Conv2D)        (None, 37, 37, 256)       295168    \n",
            "_________________________________________________________________\n",
            "block3_conv2 (Conv2D)        (None, 37, 37, 256)       590080    \n",
            "_________________________________________________________________\n",
            "block3_conv3 (Conv2D)        (None, 37, 37, 256)       590080    \n",
            "_________________________________________________________________\n",
            "block3_conv4 (Conv2D)        (None, 37, 37, 256)       590080    \n",
            "_________________________________________________________________\n",
            "block3_pool (MaxPooling2D)   (None, 18, 18, 256)       0         \n",
            "_________________________________________________________________\n",
            "block4_conv1 (Conv2D)        (None, 18, 18, 512)       1180160   \n",
            "_________________________________________________________________\n",
            "block4_conv2 (Conv2D)        (None, 18, 18, 512)       2359808   \n",
            "_________________________________________________________________\n",
            "block4_conv3 (Conv2D)        (None, 18, 18, 512)       2359808   \n",
            "_________________________________________________________________\n",
            "block4_conv4 (Conv2D)        (None, 18, 18, 512)       2359808   \n",
            "_________________________________________________________________\n",
            "block4_pool (MaxPooling2D)   (None, 9, 9, 512)         0         \n",
            "_________________________________________________________________\n",
            "block5_conv1 (Conv2D)        (None, 9, 9, 512)         2359808   \n",
            "_________________________________________________________________\n",
            "block5_conv2 (Conv2D)        (None, 9, 9, 512)         2359808   \n",
            "_________________________________________________________________\n",
            "block5_conv3 (Conv2D)        (None, 9, 9, 512)         2359808   \n",
            "_________________________________________________________________\n",
            "block5_conv4 (Conv2D)        (None, 9, 9, 512)         2359808   \n",
            "_________________________________________________________________\n",
            "block5_pool (MaxPooling2D)   (None, 4, 4, 512)         0         \n",
            "=================================================================\n",
            "Total params: 20,024,384\n",
            "Trainable params: 0\n",
            "Non-trainable params: 20,024,384\n",
            "_________________________________________________________________\n"
          ],
          "name": "stdout"
        }
      ]
    },
    {
      "cell_type": "code",
      "metadata": {
        "id": "Yy6EA45rmk6p",
        "colab_type": "code",
        "colab": {
          "base_uri": "https://localhost:8080/",
          "height": 68
        },
        "outputId": "1591b77e-63d8-4342-c9f2-088ddabbd3a2"
      },
      "source": [
        "def data_summary(main_path):\n",
        "    \n",
        "    yes_path = main_path+'yesreal'\n",
        "    no_path = main_path+'noreal'\n",
        "        \n",
        "    # number of files (images) that are in the the folder named 'yes' that represent tumorous (positive) examples\n",
        "    m_pos = len(listdir(yes_path))\n",
        "    # number of files (images) that are in the the folder named 'no' that represent non-tumorous (negative) examples\n",
        "    m_neg = len(listdir(no_path))\n",
        "    # number of all examples\n",
        "    m = (m_pos+m_neg)\n",
        "    \n",
        "    pos_prec = (m_pos* 100.0)/ m\n",
        "    neg_prec = (m_neg* 100.0)/ m\n",
        "    \n",
        "    print(f\"Number of examples: {m}\")\n",
        "    print(f\"Percentage of positive examples: {pos_prec}%, number of pos examples: {m_pos}\") \n",
        "    print(f\"Percentage of negative examples: {neg_prec}%, number of neg examples: {m_neg}\") \n",
        "    \n",
        "augmented_data_path = '/content/drive/My Drive/trial1/augmented data1/'    \n",
        "data_summary(augmented_data_path)"
      ],
      "execution_count": 4,
      "outputs": [
        {
          "output_type": "stream",
          "text": [
            "Number of examples: 2064\n",
            "Percentage of positive examples: 52.56782945736434%, number of pos examples: 1085\n",
            "Percentage of negative examples: 47.43217054263566%, number of neg examples: 979\n"
          ],
          "name": "stdout"
        }
      ]
    },
    {
      "cell_type": "code",
      "metadata": {
        "id": "AI1JuYymmk6t",
        "colab_type": "code",
        "colab": {
          "base_uri": "https://localhost:8080/",
          "height": 85
        },
        "outputId": "21369077-cae4-40ea-8147-eea9a232ef7c"
      },
      "source": [
        "print(\"The number of MRI images in the training set labelled 'yes':\", len(os.listdir('/content/drive/My Drive/trial1/augmented data1/training/yes1')))\n",
        "print(\"The number of MRI images in the test set labelled 'yes':\", len(os.listdir('/content/drive/My Drive/trial1/augmented data1/testing/yes1')))\n",
        "print(\"The number of MRI images in the training set labelled 'no':\", len(os.listdir('/content/drive/My Drive/trial1/augmented data1/training/no1')))\n",
        "print(\"The number of MRI images in the test set labelled 'no':\", len(os.listdir('/content/drive/My Drive/trial1/augmented data1/testing/no1')))"
      ],
      "execution_count": 5,
      "outputs": [
        {
          "output_type": "stream",
          "text": [
            "The number of MRI images in the training set labelled 'yes': 868\n",
            "The number of MRI images in the test set labelled 'yes': 217\n",
            "The number of MRI images in the training set labelled 'no': 783\n",
            "The number of MRI images in the test set labelled 'no': 196\n"
          ],
          "name": "stdout"
        }
      ]
    },
    {
      "cell_type": "code",
      "metadata": {
        "id": "iWZSko8Wmk6x",
        "colab_type": "code",
        "colab": {
          "base_uri": "https://localhost:8080/",
          "height": 1000
        },
        "outputId": "0c1a7b72-a30a-4f8e-b7fc-a17e55b487b4"
      },
      "source": [
        "from tensorflow.keras import layers\n",
        "from tensorflow.keras.optimizers import SGD\n",
        "x = layers.Dropout(0.3)(pre_trained_model.output)\n",
        "x = layers.Flatten()(x)\n",
        "x = layers.Dropout(0.5)(x)\n",
        "x = layers.Dense(128, activation='relu', kernel_initializer='he_uniform')(x)\n",
        "x = layers.Dense(1, activation='sigmoid')(x)           \n",
        "\n",
        "model = Model( pre_trained_model.input, x) \n",
        "opt = SGD(lr=0.001, momentum=0.9)\n",
        "model.compile(loss='binary_crossentropy', optimizer=opt, metrics=[\"acc\"])\n",
        "\n",
        "model.summary()"
      ],
      "execution_count": 6,
      "outputs": [
        {
          "output_type": "stream",
          "text": [
            "Model: \"model\"\n",
            "_________________________________________________________________\n",
            "Layer (type)                 Output Shape              Param #   \n",
            "=================================================================\n",
            "input_1 (InputLayer)         [(None, 150, 150, 3)]     0         \n",
            "_________________________________________________________________\n",
            "block1_conv1 (Conv2D)        (None, 150, 150, 64)      1792      \n",
            "_________________________________________________________________\n",
            "block1_conv2 (Conv2D)        (None, 150, 150, 64)      36928     \n",
            "_________________________________________________________________\n",
            "block1_pool (MaxPooling2D)   (None, 75, 75, 64)        0         \n",
            "_________________________________________________________________\n",
            "block2_conv1 (Conv2D)        (None, 75, 75, 128)       73856     \n",
            "_________________________________________________________________\n",
            "block2_conv2 (Conv2D)        (None, 75, 75, 128)       147584    \n",
            "_________________________________________________________________\n",
            "block2_pool (MaxPooling2D)   (None, 37, 37, 128)       0         \n",
            "_________________________________________________________________\n",
            "block3_conv1 (Conv2D)        (None, 37, 37, 256)       295168    \n",
            "_________________________________________________________________\n",
            "block3_conv2 (Conv2D)        (None, 37, 37, 256)       590080    \n",
            "_________________________________________________________________\n",
            "block3_conv3 (Conv2D)        (None, 37, 37, 256)       590080    \n",
            "_________________________________________________________________\n",
            "block3_conv4 (Conv2D)        (None, 37, 37, 256)       590080    \n",
            "_________________________________________________________________\n",
            "block3_pool (MaxPooling2D)   (None, 18, 18, 256)       0         \n",
            "_________________________________________________________________\n",
            "block4_conv1 (Conv2D)        (None, 18, 18, 512)       1180160   \n",
            "_________________________________________________________________\n",
            "block4_conv2 (Conv2D)        (None, 18, 18, 512)       2359808   \n",
            "_________________________________________________________________\n",
            "block4_conv3 (Conv2D)        (None, 18, 18, 512)       2359808   \n",
            "_________________________________________________________________\n",
            "block4_conv4 (Conv2D)        (None, 18, 18, 512)       2359808   \n",
            "_________________________________________________________________\n",
            "block4_pool (MaxPooling2D)   (None, 9, 9, 512)         0         \n",
            "_________________________________________________________________\n",
            "block5_conv1 (Conv2D)        (None, 9, 9, 512)         2359808   \n",
            "_________________________________________________________________\n",
            "block5_conv2 (Conv2D)        (None, 9, 9, 512)         2359808   \n",
            "_________________________________________________________________\n",
            "block5_conv3 (Conv2D)        (None, 9, 9, 512)         2359808   \n",
            "_________________________________________________________________\n",
            "block5_conv4 (Conv2D)        (None, 9, 9, 512)         2359808   \n",
            "_________________________________________________________________\n",
            "block5_pool (MaxPooling2D)   (None, 4, 4, 512)         0         \n",
            "_________________________________________________________________\n",
            "dropout (Dropout)            (None, 4, 4, 512)         0         \n",
            "_________________________________________________________________\n",
            "flatten (Flatten)            (None, 8192)              0         \n",
            "_________________________________________________________________\n",
            "dropout_1 (Dropout)          (None, 8192)              0         \n",
            "_________________________________________________________________\n",
            "dense (Dense)                (None, 128)               1048704   \n",
            "_________________________________________________________________\n",
            "dense_1 (Dense)              (None, 1)                 129       \n",
            "=================================================================\n",
            "Total params: 21,073,217\n",
            "Trainable params: 1,048,833\n",
            "Non-trainable params: 20,024,384\n",
            "_________________________________________________________________\n"
          ],
          "name": "stdout"
        }
      ]
    },
    {
      "cell_type": "code",
      "metadata": {
        "id": "TWXUVCjRmk63",
        "colab_type": "code",
        "colab": {
          "base_uri": "https://localhost:8080/",
          "height": 51
        },
        "outputId": "4ff3b438-3e24-4e9a-aa0b-d3fa1198936e"
      },
      "source": [
        "TRAINING_DIR = \"/content/drive/My Drive/trial1/augmented data1/training\"\n",
        "train_datagen = ImageDataGenerator(rescale=1.0/255)\n",
        "\n",
        "train_generator = train_datagen.flow_from_directory(TRAINING_DIR, \n",
        "                                                    batch_size=64, \n",
        "                                                    class_mode='binary', \n",
        "                                                    target_size=(150, 150))\n",
        "VALIDATION_DIR = \"/content/drive/My Drive/trial1/augmented data1/testing\"\n",
        "validation_datagen = ImageDataGenerator(rescale=1.0/255)\n",
        "\n",
        "validation_generator = validation_datagen.flow_from_directory(VALIDATION_DIR, \n",
        "                                                         batch_size=64, \n",
        "                                                         class_mode='binary', \n",
        "                                                         target_size=(150, 150))"
      ],
      "execution_count": 7,
      "outputs": [
        {
          "output_type": "stream",
          "text": [
            "Found 1651 images belonging to 2 classes.\n",
            "Found 413 images belonging to 2 classes.\n"
          ],
          "name": "stdout"
        }
      ]
    },
    {
      "cell_type": "code",
      "metadata": {
        "id": "CH8pMsNFmk68",
        "colab_type": "code",
        "colab": {
          "base_uri": "https://localhost:8080/",
          "height": 1000
        },
        "outputId": "cdc9d3a6-c9aa-480f-9d68-c86c38664623"
      },
      "source": [
        "history = model.fit(train_generator,\n",
        "                              epochs=30,\n",
        "                              steps_per_epoch=len(train_generator),\n",
        "                              validation_steps=len(validation_generator),\n",
        "                              validation_data=validation_generator)"
      ],
      "execution_count": 8,
      "outputs": [
        {
          "output_type": "stream",
          "text": [
            "Epoch 1/30\n",
            "26/26 [==============================] - 679s 26s/step - loss: 0.7491 - acc: 0.5724 - val_loss: 0.5799 - val_acc: 0.7482\n",
            "Epoch 2/30\n",
            "26/26 [==============================] - 10s 369ms/step - loss: 0.6006 - acc: 0.6729 - val_loss: 0.4970 - val_acc: 0.8378\n",
            "Epoch 3/30\n",
            "26/26 [==============================] - 10s 371ms/step - loss: 0.5391 - acc: 0.7371 - val_loss: 0.4580 - val_acc: 0.8571\n",
            "Epoch 4/30\n",
            "26/26 [==============================] - 10s 370ms/step - loss: 0.5146 - acc: 0.7462 - val_loss: 0.3956 - val_acc: 0.8475\n",
            "Epoch 5/30\n",
            "26/26 [==============================] - 10s 368ms/step - loss: 0.4759 - acc: 0.7789 - val_loss: 0.3755 - val_acc: 0.8208\n",
            "Epoch 6/30\n",
            "26/26 [==============================] - 10s 371ms/step - loss: 0.4450 - acc: 0.7929 - val_loss: 0.3562 - val_acc: 0.8354\n",
            "Epoch 7/30\n",
            "26/26 [==============================] - 10s 372ms/step - loss: 0.4282 - acc: 0.8001 - val_loss: 0.3343 - val_acc: 0.8692\n",
            "Epoch 8/30\n",
            "26/26 [==============================] - 10s 388ms/step - loss: 0.4230 - acc: 0.8044 - val_loss: 0.3239 - val_acc: 0.8644\n",
            "Epoch 9/30\n",
            "26/26 [==============================] - 10s 370ms/step - loss: 0.4081 - acc: 0.8165 - val_loss: 0.3393 - val_acc: 0.8959\n",
            "Epoch 10/30\n",
            "26/26 [==============================] - 10s 371ms/step - loss: 0.4154 - acc: 0.8044 - val_loss: 0.3300 - val_acc: 0.8959\n",
            "Epoch 11/30\n",
            "26/26 [==============================] - 10s 369ms/step - loss: 0.4104 - acc: 0.8134 - val_loss: 0.3690 - val_acc: 0.8596\n",
            "Epoch 12/30\n",
            "26/26 [==============================] - 10s 371ms/step - loss: 0.3929 - acc: 0.8250 - val_loss: 0.2992 - val_acc: 0.8983\n",
            "Epoch 13/30\n",
            "26/26 [==============================] - 10s 366ms/step - loss: 0.3774 - acc: 0.8298 - val_loss: 0.3048 - val_acc: 0.8959\n",
            "Epoch 14/30\n",
            "26/26 [==============================] - 10s 367ms/step - loss: 0.3770 - acc: 0.8365 - val_loss: 0.3891 - val_acc: 0.8402\n",
            "Epoch 15/30\n",
            "26/26 [==============================] - 9s 365ms/step - loss: 0.3670 - acc: 0.8419 - val_loss: 0.2860 - val_acc: 0.9080\n",
            "Epoch 16/30\n",
            "26/26 [==============================] - 9s 363ms/step - loss: 0.3491 - acc: 0.8407 - val_loss: 0.2945 - val_acc: 0.9007\n",
            "Epoch 17/30\n",
            "26/26 [==============================] - 9s 364ms/step - loss: 0.3446 - acc: 0.8449 - val_loss: 0.2931 - val_acc: 0.8983\n",
            "Epoch 18/30\n",
            "26/26 [==============================] - 10s 367ms/step - loss: 0.3484 - acc: 0.8486 - val_loss: 0.2721 - val_acc: 0.9080\n",
            "Epoch 19/30\n",
            "26/26 [==============================] - 9s 361ms/step - loss: 0.3368 - acc: 0.8455 - val_loss: 0.2683 - val_acc: 0.9104\n",
            "Epoch 20/30\n",
            "26/26 [==============================] - 9s 365ms/step - loss: 0.3475 - acc: 0.8480 - val_loss: 0.2717 - val_acc: 0.9080\n",
            "Epoch 21/30\n",
            "26/26 [==============================] - 9s 361ms/step - loss: 0.3378 - acc: 0.8583 - val_loss: 0.2868 - val_acc: 0.8935\n",
            "Epoch 22/30\n",
            "26/26 [==============================] - 9s 360ms/step - loss: 0.3288 - acc: 0.8577 - val_loss: 0.2675 - val_acc: 0.9080\n",
            "Epoch 23/30\n",
            "26/26 [==============================] - 9s 361ms/step - loss: 0.3264 - acc: 0.8577 - val_loss: 0.2599 - val_acc: 0.9056\n",
            "Epoch 24/30\n",
            "26/26 [==============================] - 9s 365ms/step - loss: 0.3238 - acc: 0.8607 - val_loss: 0.3243 - val_acc: 0.8644\n",
            "Epoch 25/30\n",
            "26/26 [==============================] - 9s 363ms/step - loss: 0.3281 - acc: 0.8571 - val_loss: 0.2582 - val_acc: 0.9104\n",
            "Epoch 26/30\n",
            "26/26 [==============================] - 9s 365ms/step - loss: 0.3324 - acc: 0.8637 - val_loss: 0.2660 - val_acc: 0.9080\n",
            "Epoch 27/30\n",
            "26/26 [==============================] - 10s 369ms/step - loss: 0.3208 - acc: 0.8546 - val_loss: 0.2568 - val_acc: 0.9104\n",
            "Epoch 28/30\n",
            "26/26 [==============================] - 10s 366ms/step - loss: 0.3084 - acc: 0.8710 - val_loss: 0.2523 - val_acc: 0.9080\n",
            "Epoch 29/30\n",
            "26/26 [==============================] - 9s 360ms/step - loss: 0.3037 - acc: 0.8776 - val_loss: 0.2749 - val_acc: 0.8983\n",
            "Epoch 30/30\n",
            "26/26 [==============================] - 9s 363ms/step - loss: 0.3072 - acc: 0.8674 - val_loss: 0.2494 - val_acc: 0.9056\n"
          ],
          "name": "stdout"
        }
      ]
    },
    {
      "cell_type": "code",
      "metadata": {
        "id": "kpBAou6xmk7A",
        "colab_type": "code",
        "colab": {
          "base_uri": "https://localhost:8080/",
          "height": 630
        },
        "outputId": "84e030ac-2960-4c35-880f-cbee0a176b65"
      },
      "source": [
        "acc=history.history['acc']\n",
        "val_acc=history.history['val_acc']\n",
        "loss=history.history['loss']\n",
        "val_loss=history.history['val_loss']\n",
        "print(\"Training Accuracy: \",acc[-1]*100,\"%\")\n",
        "print(\"Validation Accuracy: \",val_acc[-1]*100,\"%\")\n",
        "print(\"Training Loss: \",loss[-1])\n",
        "print(\"Validation Loss: \",val_loss[-1])\n",
        "epochs=range(len(acc)) # Get number of epochs\n",
        "\n",
        "\n",
        "plt.plot(epochs, acc, 'r', \"Training Accuracy(Red)\")\n",
        "plt.plot(epochs, val_acc, 'b', \"Validation Accuracy(Blue)\")\n",
        "plt.title('Training and validation accuracy')\n",
        "plt.figure()\n",
        "\n",
        "\n",
        "plt.plot(epochs, loss, 'r', \"Training Loss(Red)\")\n",
        "plt.plot(epochs, val_loss, 'b', \"Validation Loss(Blue)\")\n",
        "\n",
        "\n",
        "plt.title('Training and validation loss')"
      ],
      "execution_count": 9,
      "outputs": [
        {
          "output_type": "stream",
          "text": [
            "Training Accuracy:  86.73531413078308 %\n",
            "Validation Accuracy:  90.55690169334412 %\n",
            "Training Loss:  0.30723464488983154\n",
            "Validation Loss:  0.24941495060920715\n"
          ],
          "name": "stdout"
        },
        {
          "output_type": "execute_result",
          "data": {
            "text/plain": [
              "Text(0.5, 1.0, 'Training and validation loss')"
            ]
          },
          "metadata": {
            "tags": []
          },
          "execution_count": 9
        },
        {
          "output_type": "display_data",
          "data": {
            "image/png": "[encoded data removed]",
            "text/plain": [
              "<Figure size 432x288 with 1 Axes>"
            ]
          },
          "metadata": {
            "tags": [],
            "needs_background": "light"
          }
        },
        {
          "output_type": "display_data",
          "data": {
            "image/png": "[encoded data removed]",
            "text/plain": [
              "<Figure size 432x288 with 1 Axes>"
            ]
          },
          "metadata": {
            "tags": [],
            "needs_background": "light"
          }
        }
      ]
    }
  ]
}