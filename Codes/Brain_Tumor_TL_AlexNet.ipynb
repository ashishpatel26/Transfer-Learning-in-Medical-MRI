{
  "nbformat": 4,
  "nbformat_minor": 0,
  "metadata": {
    "kernelspec": {
      "display_name": "Python 3",
      "language": "python",
      "name": "python3"
    },
    "language_info": {
      "codemirror_mode": {
        "name": "ipython",
        "version": 3
      },
      "file_extension": ".py",
      "mimetype": "text/x-python",
      "name": "python",
      "nbconvert_exporter": "python",
      "pygments_lexer": "ipython3",
      "version": "3.7.7"
    },
    "colab": {
      "name": "Brain_Tumor_TL_AlexNet.ipynb",
      "provenance": []
    },
    "accelerator": "GPU"
  },
  "cells": [
    {
      "cell_type": "code",
      "metadata": {
        "id": "44drN7yZmk6W",
        "colab_type": "code",
        "colab": {}
      },
      "source": [
        "import os\n",
        "import zipfile\n",
        "import random\n",
        "import shutil\n",
        "import tensorflow as tf\n",
        "from tensorflow.keras.optimizers import RMSprop\n",
        "from tensorflow.keras.preprocessing.image import ImageDataGenerator\n",
        "from shutil import copyfile\n",
        "from os import getcwd\n",
        "from os import listdir\n",
        "import cv2\n",
        "from keras.models import Sequential\n",
        "from keras.layers import Dense, Conv2D, MaxPooling2D, AveragePooling2D, Flatten, Dropout\n",
        "from sklearn.model_selection import train_test_split\n",
        "from sklearn.metrics import f1_score\n",
        "from sklearn.utils import shuffle\n",
        "import imutils\n",
        "import numpy as np\n",
        "import matplotlib.pyplot as plt\n",
        "import matplotlib.image  as mpimg"
      ],
      "execution_count": 9,
      "outputs": []
    },
    {
      "cell_type": "code",
      "metadata": {
        "id": "T1kekHNMnB04",
        "colab_type": "code",
        "colab": {
          "base_uri": "https://localhost:8080/",
          "height": 34
        },
        "outputId": "6cfc5c69-2d78-4fcb-d6e0-2c40f18731cc"
      },
      "source": [
        "from google.colab import drive\n",
        "drive.mount('/content/drive')"
      ],
      "execution_count": 10,
      "outputs": [
        {
          "output_type": "stream",
          "text": [
            "Drive already mounted at /content/drive; to attempt to forcibly remount, call drive.mount(\"/content/drive\", force_remount=True).\n"
          ],
          "name": "stdout"
        }
      ]
    },
    {
      "cell_type": "code",
      "metadata": {
        "id": "Yy6EA45rmk6p",
        "colab_type": "code",
        "colab": {
          "base_uri": "https://localhost:8080/",
          "height": 68
        },
        "outputId": "3b429413-7465-491e-9434-4e9e5232fbb5"
      },
      "source": [
        "def data_summary(main_path):\n",
        "    \n",
        "    yes_path = main_path+'yesreal'\n",
        "    no_path = main_path+'noreal'\n",
        "        \n",
        "    # number of files (images) that are in the the folder named 'yes' that represent tumorous (positive) examples\n",
        "    m_pos = len(listdir(yes_path))\n",
        "    # number of files (images) that are in the the folder named 'no' that represent non-tumorous (negative) examples\n",
        "    m_neg = len(listdir(no_path))\n",
        "    # number of all examples\n",
        "    m = (m_pos+m_neg)\n",
        "    \n",
        "    pos_prec = (m_pos* 100.0)/ m\n",
        "    neg_prec = (m_neg* 100.0)/ m\n",
        "    \n",
        "    print(f\"Number of examples: {m}\")\n",
        "    print(f\"Percentage of positive examples: {pos_prec}%, number of pos examples: {m_pos}\") \n",
        "    print(f\"Percentage of negative examples: {neg_prec}%, number of neg examples: {m_neg}\") \n",
        "    \n",
        "augmented_data_path = '/content/drive/My Drive/trial1/augmented data1/'    \n",
        "data_summary(augmented_data_path)"
      ],
      "execution_count": 11,
      "outputs": [
        {
          "output_type": "stream",
          "text": [
            "Number of examples: 2064\n",
            "Percentage of positive examples: 52.56782945736434%, number of pos examples: 1085\n",
            "Percentage of negative examples: 47.43217054263566%, number of neg examples: 979\n"
          ],
          "name": "stdout"
        }
      ]
    },
    {
      "cell_type": "code",
      "metadata": {
        "id": "AI1JuYymmk6t",
        "colab_type": "code",
        "colab": {
          "base_uri": "https://localhost:8080/",
          "height": 85
        },
        "outputId": "86b9e38c-df76-4e57-95a3-0fe48f6085b5"
      },
      "source": [
        "print(\"The number of MRI images in the training set labelled 'yes':\", len(os.listdir('/content/drive/My Drive/trial1/augmented data1/training/yes1')))\n",
        "print(\"The number of MRI images in the test set labelled 'yes':\", len(os.listdir('/content/drive/My Drive/trial1/augmented data1/testing/yes1')))\n",
        "print(\"The number of MRI images in the training set labelled 'no':\", len(os.listdir('/content/drive/My Drive/trial1/augmented data1/training/no1')))\n",
        "print(\"The number of MRI images in the test set labelled 'no':\", len(os.listdir('/content/drive/My Drive/trial1/augmented data1/testing/no1')))"
      ],
      "execution_count": 12,
      "outputs": [
        {
          "output_type": "stream",
          "text": [
            "The number of MRI images in the training set labelled 'yes': 868\n",
            "The number of MRI images in the test set labelled 'yes': 217\n",
            "The number of MRI images in the training set labelled 'no': 783\n",
            "The number of MRI images in the test set labelled 'no': 196\n"
          ],
          "name": "stdout"
        }
      ]
    },
    {
      "cell_type": "code",
      "metadata": {
        "id": "iWZSko8Wmk6x",
        "colab_type": "code",
        "colab": {
          "base_uri": "https://localhost:8080/",
          "height": 595
        },
        "outputId": "e148ac96-fabf-45f7-c6f1-72a61f74632a"
      },
      "source": [
        "from keras.optimizers import SGD\n",
        "\n",
        "x = Sequential()\n",
        "x.add(Conv2D(96, (11,11), activation = 'relu',strides=4, input_shape=(150,150,3)))\n",
        "x.add(MaxPooling2D(pool_size=(3, 3),strides=(2, 2), padding='valid'))\n",
        "x.add(Conv2D(256, (5,5), strides=1, activation = 'relu', padding='same'))\n",
        "x.add(MaxPooling2D(pool_size=(3, 3),strides=(2, 2), padding='valid'))\n",
        "x.add(Conv2D(384, (3,3), strides=1, activation = 'relu', padding='same'))\n",
        "x.add(Conv2D(384, (3,3), strides=1, activation = 'relu', padding='same'))\n",
        "x.add(Conv2D(256, (3,3), strides=1, activation = 'relu', padding='same'))\n",
        "x.add(MaxPooling2D(pool_size=(3, 3),strides=(2, 2), padding='valid'))\n",
        "x.add(Flatten())\n",
        "x.add(Dense(4096, activation = 'relu'))\n",
        "x.add(Dropout(0.5))\n",
        "x.add(Dense(4096, activation = 'relu'))\n",
        "x.add(Dense(1, activation = 'sigmoid'))         \n",
        "\n",
        "opt = SGD(lr=0.001, momentum=0.9)\n",
        "x.compile(loss='binary_crossentropy', optimizer=opt, metrics=[\"acc\"])\n",
        "\n",
        "x.summary()"
      ],
      "execution_count": 13,
      "outputs": [
        {
          "output_type": "stream",
          "text": [
            "Model: \"sequential_2\"\n",
            "_________________________________________________________________\n",
            "Layer (type)                 Output Shape              Param #   \n",
            "=================================================================\n",
            "conv2d_6 (Conv2D)            (None, 35, 35, 96)        34944     \n",
            "_________________________________________________________________\n",
            "max_pooling2d_4 (MaxPooling2 (None, 17, 17, 96)        0         \n",
            "_________________________________________________________________\n",
            "conv2d_7 (Conv2D)            (None, 17, 17, 256)       614656    \n",
            "_________________________________________________________________\n",
            "max_pooling2d_5 (MaxPooling2 (None, 8, 8, 256)         0         \n",
            "_________________________________________________________________\n",
            "conv2d_8 (Conv2D)            (None, 8, 8, 384)         885120    \n",
            "_________________________________________________________________\n",
            "conv2d_9 (Conv2D)            (None, 8, 8, 384)         1327488   \n",
            "_________________________________________________________________\n",
            "conv2d_10 (Conv2D)           (None, 8, 8, 256)         884992    \n",
            "_________________________________________________________________\n",
            "max_pooling2d_6 (MaxPooling2 (None, 3, 3, 256)         0         \n",
            "_________________________________________________________________\n",
            "flatten_2 (Flatten)          (None, 2304)              0         \n",
            "_________________________________________________________________\n",
            "dense_4 (Dense)              (None, 4096)              9441280   \n",
            "_________________________________________________________________\n",
            "dropout_2 (Dropout)          (None, 4096)              0         \n",
            "_________________________________________________________________\n",
            "dense_5 (Dense)              (None, 4096)              16781312  \n",
            "_________________________________________________________________\n",
            "dense_6 (Dense)              (None, 1)                 4097      \n",
            "=================================================================\n",
            "Total params: 29,973,889\n",
            "Trainable params: 29,973,889\n",
            "Non-trainable params: 0\n",
            "_________________________________________________________________\n"
          ],
          "name": "stdout"
        }
      ]
    },
    {
      "cell_type": "code",
      "metadata": {
        "id": "TWXUVCjRmk63",
        "colab_type": "code",
        "colab": {
          "base_uri": "https://localhost:8080/",
          "height": 51
        },
        "outputId": "53dab7fa-6381-4587-ee67-6b6e1382cc9c"
      },
      "source": [
        "TRAINING_DIR = \"/content/drive/My Drive/trial1/augmented data1/training\"\n",
        "train_datagen = ImageDataGenerator(rescale=1.0/255)\n",
        "\n",
        "train_generator = train_datagen.flow_from_directory(TRAINING_DIR, \n",
        "                                                    batch_size=64, \n",
        "                                                    class_mode='binary', \n",
        "                                                    target_size=(150, 150))\n",
        "VALIDATION_DIR = \"/content/drive/My Drive/trial1/augmented data1/testing\"\n",
        "validation_datagen = ImageDataGenerator(rescale=1.0/255)\n",
        "\n",
        "validation_generator = validation_datagen.flow_from_directory(VALIDATION_DIR, \n",
        "                                                         batch_size=64, \n",
        "                                                         class_mode='binary', \n",
        "                                                         target_size=(150, 150))"
      ],
      "execution_count": 14,
      "outputs": [
        {
          "output_type": "stream",
          "text": [
            "Found 1651 images belonging to 2 classes.\n",
            "Found 413 images belonging to 2 classes.\n"
          ],
          "name": "stdout"
        }
      ]
    },
    {
      "cell_type": "code",
      "metadata": {
        "id": "CH8pMsNFmk68",
        "colab_type": "code",
        "colab": {
          "base_uri": "https://localhost:8080/",
          "height": 1000
        },
        "outputId": "80f0691b-8853-4505-feac-cf1f5843a1c7"
      },
      "source": [
        "history = x.fit(train_generator,\n",
        "                              epochs=30,\n",
        "                              steps_per_epoch=len(train_generator),\n",
        "                              validation_steps=len(validation_generator),\n",
        "                              validation_data=validation_generator)"
      ],
      "execution_count": 15,
      "outputs": [
        {
          "output_type": "stream",
          "text": [
            "Epoch 1/30\n",
            "26/26 [==============================] - 8s 289ms/step - loss: 0.6903 - acc: 0.5257 - val_loss: 0.6897 - val_acc: 0.5254\n",
            "Epoch 2/30\n",
            "26/26 [==============================] - 7s 276ms/step - loss: 0.6880 - acc: 0.5257 - val_loss: 0.6997 - val_acc: 0.5254\n",
            "Epoch 3/30\n",
            "26/26 [==============================] - 7s 277ms/step - loss: 0.6865 - acc: 0.5257 - val_loss: 0.6952 - val_acc: 0.5254\n",
            "Epoch 4/30\n",
            "26/26 [==============================] - 7s 279ms/step - loss: 0.6853 - acc: 0.5257 - val_loss: 0.6978 - val_acc: 0.5254\n",
            "Epoch 5/30\n",
            "26/26 [==============================] - 7s 276ms/step - loss: 0.6830 - acc: 0.5257 - val_loss: 0.6899 - val_acc: 0.5254\n",
            "Epoch 6/30\n",
            "26/26 [==============================] - 7s 274ms/step - loss: 0.6804 - acc: 0.5251 - val_loss: 0.6551 - val_acc: 0.5254\n",
            "Epoch 7/30\n",
            "26/26 [==============================] - 7s 274ms/step - loss: 0.6769 - acc: 0.5270 - val_loss: 0.6878 - val_acc: 0.5254\n",
            "Epoch 8/30\n",
            "26/26 [==============================] - 7s 277ms/step - loss: 0.6728 - acc: 0.5330 - val_loss: 0.6788 - val_acc: 0.5545\n",
            "Epoch 9/30\n",
            "26/26 [==============================] - 7s 285ms/step - loss: 0.6657 - acc: 0.5572 - val_loss: 0.6500 - val_acc: 0.5666\n",
            "Epoch 10/30\n",
            "26/26 [==============================] - 7s 276ms/step - loss: 0.6612 - acc: 0.5784 - val_loss: 0.6424 - val_acc: 0.6392\n",
            "Epoch 11/30\n",
            "26/26 [==============================] - 7s 273ms/step - loss: 0.6524 - acc: 0.6124 - val_loss: 0.6427 - val_acc: 0.7409\n",
            "Epoch 12/30\n",
            "26/26 [==============================] - 7s 277ms/step - loss: 0.6411 - acc: 0.6959 - val_loss: 0.6731 - val_acc: 0.6634\n",
            "Epoch 13/30\n",
            "26/26 [==============================] - 7s 274ms/step - loss: 0.6262 - acc: 0.6875 - val_loss: 0.6007 - val_acc: 0.7433\n",
            "Epoch 14/30\n",
            "26/26 [==============================] - 7s 278ms/step - loss: 0.6188 - acc: 0.6984 - val_loss: 0.5438 - val_acc: 0.7433\n",
            "Epoch 15/30\n",
            "26/26 [==============================] - 7s 281ms/step - loss: 0.6016 - acc: 0.7038 - val_loss: 0.5674 - val_acc: 0.7458\n",
            "Epoch 16/30\n",
            "26/26 [==============================] - 7s 273ms/step - loss: 0.5743 - acc: 0.7250 - val_loss: 0.5528 - val_acc: 0.7869\n",
            "Epoch 17/30\n",
            "26/26 [==============================] - 7s 275ms/step - loss: 0.5614 - acc: 0.7323 - val_loss: 0.4251 - val_acc: 0.7845\n",
            "Epoch 18/30\n",
            "26/26 [==============================] - 7s 273ms/step - loss: 0.5561 - acc: 0.7450 - val_loss: 0.5034 - val_acc: 0.8232\n",
            "Epoch 19/30\n",
            "26/26 [==============================] - 7s 272ms/step - loss: 0.5580 - acc: 0.7286 - val_loss: 0.4015 - val_acc: 0.7409\n",
            "Epoch 20/30\n",
            "26/26 [==============================] - 7s 273ms/step - loss: 0.5107 - acc: 0.7656 - val_loss: 0.3015 - val_acc: 0.7676\n",
            "Epoch 21/30\n",
            "26/26 [==============================] - 7s 275ms/step - loss: 0.4796 - acc: 0.7777 - val_loss: 0.7230 - val_acc: 0.8087\n",
            "Epoch 22/30\n",
            "26/26 [==============================] - 7s 272ms/step - loss: 0.4832 - acc: 0.7844 - val_loss: 0.6855 - val_acc: 0.8862\n",
            "Epoch 23/30\n",
            "26/26 [==============================] - 7s 273ms/step - loss: 0.4774 - acc: 0.7838 - val_loss: 0.4937 - val_acc: 0.8741\n",
            "Epoch 24/30\n",
            "26/26 [==============================] - 7s 271ms/step - loss: 0.4592 - acc: 0.7868 - val_loss: 0.3605 - val_acc: 0.8838\n",
            "Epoch 25/30\n",
            "26/26 [==============================] - 7s 274ms/step - loss: 0.4388 - acc: 0.7935 - val_loss: 0.4753 - val_acc: 0.8378\n",
            "Epoch 26/30\n",
            "26/26 [==============================] - 7s 286ms/step - loss: 0.4492 - acc: 0.7965 - val_loss: 0.5127 - val_acc: 0.6634\n",
            "Epoch 27/30\n",
            "26/26 [==============================] - 7s 270ms/step - loss: 0.4556 - acc: 0.7910 - val_loss: 0.8479 - val_acc: 0.7651\n",
            "Epoch 28/30\n",
            "26/26 [==============================] - 7s 275ms/step - loss: 0.4572 - acc: 0.7953 - val_loss: 0.3380 - val_acc: 0.8378\n",
            "Epoch 29/30\n",
            "26/26 [==============================] - 7s 275ms/step - loss: 0.4076 - acc: 0.8231 - val_loss: 0.3029 - val_acc: 0.8015\n",
            "Epoch 30/30\n",
            "26/26 [==============================] - 7s 271ms/step - loss: 0.3819 - acc: 0.8298 - val_loss: 0.4178 - val_acc: 0.8789\n"
          ],
          "name": "stdout"
        }
      ]
    },
    {
      "cell_type": "code",
      "metadata": {
        "id": "kpBAou6xmk7A",
        "colab_type": "code",
        "colab": {
          "base_uri": "https://localhost:8080/",
          "height": 630
        },
        "outputId": "4acd0b15-fc97-4961-c512-7e73a5075812"
      },
      "source": [
        "acc=history.history['acc']\n",
        "val_acc=history.history['val_acc']\n",
        "loss=history.history['loss']\n",
        "val_loss=history.history['val_loss']\n",
        "print(\"Training Accuracy: \",acc[-1]*100,\"%\")\n",
        "print(\"Validation Accuracy: \",val_acc[-1]*100,\"%\")\n",
        "print(\"Training Loss: \",loss[-1])\n",
        "print(\"Validation Loss: \",val_loss[-1])\n",
        "epochs=range(len(acc)) # Get number of epochs\n",
        "\n",
        "\n",
        "plt.plot(epochs, acc, 'r', \"Training Accuracy(Red)\")\n",
        "plt.plot(epochs, val_acc, 'b', \"Validation Accuracy(Blue)\")\n",
        "plt.title('Training and validation accuracy')\n",
        "plt.figure()\n",
        "\n",
        "\n",
        "plt.plot(epochs, loss, 'r', \"Training Loss(Red)\")\n",
        "plt.plot(epochs, val_loss, 'b', \"Validation Loss(Blue)\")\n",
        "\n",
        "\n",
        "plt.title('Training and validation loss')"
      ],
      "execution_count": 16,
      "outputs": [
        {
          "output_type": "stream",
          "text": [
            "Training Accuracy:  82.98001289367676 %\n",
            "Validation Accuracy:  87.89346218109131 %\n",
            "Training Loss:  0.3823281271503883\n",
            "Validation Loss:  0.41783440113067627\n"
          ],
          "name": "stdout"
        },
        {
          "output_type": "execute_result",
          "data": {
            "text/plain": [
              "Text(0.5, 1.0, 'Training and validation loss')"
            ]
          },
          "metadata": {
            "tags": []
          },
          "execution_count": 16
        },
        {
          "output_type": "display_data",
          "data": {
            "image/png": "[encoded data removed]",
            "text/plain": [
              "<Figure size 432x288 with 1 Axes>"
            ]
          },
          "metadata": {
            "tags": [],
            "needs_background": "light"
          }
        },
        {
          "output_type": "display_data",
          "data": {
            "image/png": "[encoded data removed]",
            "text/plain": [
              "<Figure size 432x288 with 1 Axes>"
            ]
          },
          "metadata": {
            "tags": [],
            "needs_background": "light"
          }
        }
      ]
    }
  ]
}